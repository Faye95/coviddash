{
 "cells": [
  {
   "cell_type": "markdown",
   "metadata": {},
   "source": [
    "# DIY Covid-19 Dashboard"
   ]
  },
  {
   "cell_type": "markdown",
   "metadata": {},
   "source": [
    "**Click the refresh data button to update the graph.**"
   ]
  },
  {
   "cell_type": "code",
   "execution_count": 1,
   "metadata": {},
   "outputs": [],
   "source": [
    "import ipywidgets as wdg\n",
    "import pandas as pd\n",
    "import numpy as np\n",
    "import matplotlib.pyplot as plt\n",
    "import json\n",
    "from uk_covid19 import Cov19API\n",
    "import datetime"
   ]
  },
  {
   "cell_type": "code",
   "execution_count": 2,
   "metadata": {},
   "outputs": [],
   "source": [
    "%matplotlib inline\n",
    "plt.rcParams['figure.dpi'] = 100"
   ]
  },
  {
   "cell_type": "code",
   "execution_count": 3,
   "metadata": {},
   "outputs": [],
   "source": [
    "with open(\"newdata.json\", \"rt\") as INFILE:\n",
    "    data=json.load(INFILE)"
   ]
  },
  {
   "cell_type": "code",
   "execution_count": 4,
   "metadata": {},
   "outputs": [],
   "source": [
    "def parse_date(datestring):\n",
    "    \"\"\" Convert a date string into a pandas datetime object \"\"\"\n",
    "    return pd.to_datetime(datestring, format=\"%Y-%m-%d\")\n",
    "\n",
    "def wrangle_data(data):\n",
    "    datalist=data['data']\n",
    "\n",
    "    dates=[dictionary['date'] for dictionary in datalist ]\n",
    "    dates.sort()\n",
    "\n",
    "    startdate=parse_date(dates[0])\n",
    "    enddate=parse_date(dates[-1])\n",
    "\n",
    "    index=pd.date_range(startdate, enddate, freq='D')\n",
    "    newdatadf=pd.DataFrame(index=index, columns=['cases', 'deaths'])\n",
    "\n",
    "    for entry in datalist:\n",
    "        date=parse_date(entry['date'])\n",
    "        for column in ['cases', 'deaths']:\n",
    "            if pd.isna(newdatadf.loc[date, column]): \n",
    "                value= float(entry[column]) if entry[column]!=None else 0.0\n",
    "                newdatadf.loc[date, column]=value\n",
    "            \n",
    "    newdatadf.fillna(0.0, inplace=True)\n",
    "    return newdatadf\n",
    "\n",
    "newdatadf=wrangle_data(data)"
   ]
  },
  {
   "cell_type": "code",
   "execution_count": 5,
   "metadata": {},
   "outputs": [],
   "source": [
    "def access_api():\n",
    "    filters=[\n",
    "    'areaType=overview'\n",
    "]\n",
    "    structure={\n",
    "    \"date\": \"date\",\n",
    "    \"cases\": \"newCasesByPublishDate\",\n",
    "    \"deaths\": \"newDeaths28DaysByPublishDate\"   \n",
    "}\n",
    "    api=Cov19API(filters=filters, structure=structure)\n",
    "    newdata=api.get_json()\n",
    "    return newdata"
   ]
  },
  {
   "cell_type": "code",
   "execution_count": 6,
   "metadata": {},
   "outputs": [
    {
     "data": {
      "application/vnd.jupyter.widget-view+json": {
       "model_id": "1cab4e1837de4de391af90001b20d249",
       "version_major": 2,
       "version_minor": 0
      },
      "text/plain": [
       "Button(button_style='success', description='Refresh Data', icon='refresh', style=ButtonStyle(), tooltip='Click…"
      ]
     },
     "metadata": {},
     "output_type": "display_data"
    },
    {
     "data": {
      "application/vnd.jupyter.widget-view+json": {
       "model_id": "4e9647b7d10d42c09e22408af8ac6ef4",
       "version_major": 2,
       "version_minor": 0
      },
      "text/plain": [
       "Output()"
      ]
     },
     "metadata": {},
     "output_type": "display_data"
    }
   ],
   "source": [
    "apibutton=wdg.Button(\n",
    "    description='Refresh Data',\n",
    "    disabled=False,\n",
    "    button_style='success',\n",
    "    tooltip='Click to download current Public Health England data',\n",
    "    icon='refresh'\n",
    ")\n",
    "\n",
    "output1=wdg.Output()\n",
    "@output1.capture(clear_output=True, wait=True)\n",
    "def api_button_callback(button):\n",
    "    apidata=access_api()\n",
    "    global newdatadf\n",
    "    newdatadf=wrangle_data(apidata)\n",
    "    refresh_graph()\n",
    "    apibutton.icon=\"check\"\n",
    "    api_button_callback=datetime.datetime.now()\n",
    "    print(api_button_callback)\n",
    "\n",
    "apibutton.on_click(api_button_callback)\n",
    "display(apibutton)\n",
    "output1"
   ]
  },
  {
   "cell_type": "code",
   "execution_count": 7,
   "metadata": {},
   "outputs": [
    {
     "data": {
      "application/vnd.jupyter.widget-view+json": {
       "model_id": "20084029e8f84931a4728fee0f69f188",
       "version_major": 2,
       "version_minor": 0
      },
      "text/plain": [
       "HBox(children=(SelectMultiple(description='Stats:', index=(0, 1), options=('cases', 'deaths'), rows=2, value=(…"
      ]
     },
     "metadata": {},
     "output_type": "display_data"
    },
    {
     "data": {
      "application/vnd.jupyter.widget-view+json": {
       "model_id": "6b172e7f510d4e8b857054c1fb99bb49",
       "version_major": 2,
       "version_minor": 0
      },
      "text/plain": [
       "Output()"
      ]
     },
     "metadata": {},
     "output_type": "display_data"
    }
   ],
   "source": [
    "def plot_newdata_graph(gcols, gscale):\n",
    "    if gscale=='linear':\n",
    "        logscale=False\n",
    "    else:\n",
    "        logscale=True\n",
    "    ncols=len(gcols)\n",
    "    if ncols>0:\n",
    "        newdatadf[list(gcols)].plot(logy=logscale)\n",
    "    else:\n",
    "        print(\"Click to select data for graph\")\n",
    "        print(\"(CTRL-Click to select more than one category)\")\n",
    "        \n",
    "series=wdg.SelectMultiple(\n",
    "    options=['cases', 'deaths'],\n",
    "    value=['cases', 'deaths'],\n",
    "    rows=2,\n",
    "    description='Stats:',\n",
    "    disabled=False\n",
    ")\n",
    "\n",
    "scale=wdg.RadioButtons(\n",
    "    options=['linear', 'log'],\n",
    "    description='Scale:',\n",
    "    disabled=False\n",
    ")\n",
    "\n",
    "controls=wdg.HBox([series, scale])\n",
    "graph=wdg.interactive_output(plot_newdata_graph, {'gcols': series, 'gscale': scale})\n",
    "display(controls, graph)\n",
    "\n",
    "def refresh_graph():\n",
    "    current=scale.value\n",
    "    if current==scale.options[0]:\n",
    "        other=scale.options[1]\n",
    "    else:\n",
    "        other=scale.options[0]\n",
    "    scale.value=other\n",
    "    scale.value=current"
   ]
  },
  {
   "cell_type": "markdown",
   "metadata": {},
   "source": [
    "**The data is presented on a linear scale and a logarithmic scale. The graph shows the number of confirmed Covid-19 cases and deaths per day in the United Kingdom. *Cases* represents new cases by publish date and *Deaths* represents new deaths within 28 days of a positive test. The numbers started rising in March and passed the first peak in April. The second wave started in September with the number of cases far exceeding those from the first wave.**"
   ]
  },
  {
   "cell_type": "markdown",
   "metadata": {},
   "source": [
    "**Author and Copyright Notice** (C) Rafayet Tarafder, 2020 (r.tarafder@se20.qmul.ac.uk). All rights reserved. *Based on UK Government [data](https://coronavirus.data.gov.uk/) published by [Public Health England](https://www.gov.uk/government/organisations/public-health-england).*"
   ]
  }
 ],
 "metadata": {
  "kernelspec": {
   "display_name": "Python 3",
   "language": "python",
   "name": "python3"
  },
  "language_info": {
   "codemirror_mode": {
    "name": "ipython",
    "version": 3
   },
   "file_extension": ".py",
   "mimetype": "text/x-python",
   "name": "python",
   "nbconvert_exporter": "python",
   "pygments_lexer": "ipython3",
   "version": "3.8.5"
  }
 },
 "nbformat": 4,
 "nbformat_minor": 4
}
